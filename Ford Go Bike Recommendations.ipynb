{
 "cells": [
  {
   "cell_type": "markdown",
   "metadata": {},
   "source": [
    "# Ford GoBike Recommendations\n",
    "Ford GoBike is interested in deciding what kinds of promotions to offer through its mobile app. The focus is on commuter trips because those likely contribute the most revenue to the company and, if new customers are generated, they will likely yield consistent revenue for a longer period of time because they will 1) sign up for longer subscriptions and 2) need the service on a daily basis.\n",
    "\n",
    "This short report is broken into 2 main sections. 1) An exploration of the data to find answers to key questions and 2) recommendations based on the exploration."
   ]
  },
  {
   "cell_type": "code",
   "execution_count": 1,
   "metadata": {},
   "outputs": [],
   "source": [
    "import pandas as pd\n",
    "import seaborn as sns\n",
    "import numpy as np\n",
    "%matplotlib inline\n",
    "import matplotlib.pyplot as plt\n",
    "import matplotlib.ticker as ticker"
   ]
  },
  {
   "cell_type": "markdown",
   "metadata": {},
   "source": [
    "## Exploring the data\n",
    "\n",
    "### What are commuter trips?\n",
    "First, we explore how we will define a commuter trip. Commuter trips are likely to happen in the few hours before 9am and the hours around 5pm, but let's check in the data to make sure this is the case."
   ]
  },
  {
   "cell_type": "code",
   "execution_count": 77,
   "metadata": {},
   "outputs": [
    {
     "name": "stdout",
     "output_type": "stream",
     "text": [
      "\r",
      "Waiting on bqjob_r4f6ad27a6985d09c_000001619c5bb69b_1 ... (0s) Current status: DONE   "
     ]
    }
   ],
   "source": [
    "# Extract the number of trips by day-hour\n",
    "! bq query --use_legacy_sql=FALSE --format=csv --max_rows=1000 'SELECT EXTRACT(DAYOFWEEK FROM start_date) DAY_OF_WEEK, EXTRACT(HOUR FROM start_date) HOUR, COUNT(*) num_trips FROM `bigquery-public-data.san_francisco.bikeshare_trips` GROUP BY DAY_OF_WEEK, HOUR' > trips_by_day_hour.csv\n"
   ]
  },
  {
   "cell_type": "code",
   "execution_count": 2,
   "metadata": {},
   "outputs": [
    {
     "name": "stdout",
     "output_type": "stream",
     "text": [
      "[1 2 3 4 5 6 7]\n"
     ]
    }
   ],
   "source": [
    "# check the results\n",
    "trips_by_day_hour=pd.read_csv('trips_by_day_hour.csv')\n",
    "trips_by_day_hour.head()\n",
    "print (trips_by_day_hour['DAY_OF_WEEK'].unique())"
   ]
  },
  {
   "cell_type": "code",
   "execution_count": 5,
   "metadata": {
    "scrolled": true
   },
   "outputs": [
    {
     "data": {
      "text/plain": [
       "Text(35.7514,0.5,u'Number of Trips')"
      ]
     },
     "execution_count": 5,
     "metadata": {},
     "output_type": "execute_result"
    },
    {
     "data": {
      "image/png": "[encoded data removed]",
      "text/plain": [
       "<matplotlib.figure.Figure at 0xdb77470>"
      ]
     },
     "metadata": {},
     "output_type": "display_data"
    }
   ],
   "source": [
    "# map the day of week number to text day and make a grouped column chart\n",
    "di = {1: \"Sunday\",\n",
    "     2: \"Monday\",\n",
    "     3: \"Tuesday\",\n",
    "     4: \"Wednesday\",\n",
    "     5: \"Thursday\",\n",
    "     6: \"Friday\",\n",
    "     7: \"Saturday\",\n",
    "     }\n",
    "trips_by_day_hour['DAY_OF_WEEK'].replace(di, inplace=True)\n",
    "sns.factorplot(x=\"HOUR\", y=\"num_trips\", hue=\"DAY_OF_WEEK\",\n",
    "              data=trips_by_day_hour, kind=\"bar\", size=6,\n",
    "              palette=\"muted\")\n",
    "plt.title('Distribution of Trips Throughout the Day\\nby Day of the Week')\n",
    "plt.ylabel('Number of Trips')"
   ]
  },
  {
   "cell_type": "markdown",
   "metadata": {},
   "source": [
    "6 hours clearly stand out on weekdays. From 7am to 9:59am and from 4pm to 6:59pm on weekdays are the busiest hours. This confirms our intuition about when commuter trips occur. We can define commuter trips as trips on weekdays during these hours."
   ]
  },
  {
   "cell_type": "markdown",
   "metadata": {},
   "source": [
    "### What are the most popular trips that you would call \"commuter trips\"?\n",
    "Now that we have a definition of commuter trips, we can look into which of those trips are most popular."
   ]
  },
  {
   "cell_type": "code",
   "execution_count": 80,
   "metadata": {},
   "outputs": [
    {
     "name": "stdout",
     "output_type": "stream",
     "text": [
      "\r",
      "Waiting on bqjob_r14c7287b3740221c_000001619c5bc8af_1 ... (0s) Current status: DONE   "
     ]
    }
   ],
   "source": [
    "# Extract the top 20 trips in weekday mornings and evenings during commuter times\n",
    "! bq query --use_legacy_sql=FALSE --format=csv --max_rows=1000 'SELECT start_station_id, end_station_id, start_station_name, end_station_name, COUNT(*) num_trips FROM `bigquery-public-data.san_francisco.bikeshare_trips` WHERE EXTRACT(HOUR FROM start_date) IN(7,8,9,16,17,18) AND EXTRACT(DAYOFWEEK FROM start_date) BETWEEN 2 and 6 GROUP BY start_station_id, end_station_id, start_station_name, end_station_name ORDER BY COUNT(*) DESC LIMIT 100' > popular_commuter_trips.csv\n"
   ]
  },
  {
   "cell_type": "code",
   "execution_count": 81,
   "metadata": {},
   "outputs": [
    {
     "data": {
      "text/html": [
       "<div>\n",
       "<style scoped>\n",
       "    .dataframe tbody tr th:only-of-type {\n",
       "        vertical-align: middle;\n",
       "    }\n",
       "\n",
       "    .dataframe tbody tr th {\n",
       "        vertical-align: top;\n",
       "    }\n",
       "\n",
       "    .dataframe thead th {\n",
       "        text-align: right;\n",
       "    }\n",
       "</style>\n",
       "<table border=\"1\" class=\"dataframe\">\n",
       "  <thead>\n",
       "    <tr style=\"text-align: right;\">\n",
       "      <th></th>\n",
       "      <th>start_station_id</th>\n",
       "      <th>end_station_id</th>\n",
       "      <th>start_station_name</th>\n",
       "      <th>end_station_name</th>\n",
       "      <th>num_trips</th>\n",
       "    </tr>\n",
       "  </thead>\n",
       "  <tbody>\n",
       "    <tr>\n",
       "      <th>0</th>\n",
       "      <td>61</td>\n",
       "      <td>50</td>\n",
       "      <td>2nd at Townsend</td>\n",
       "      <td>Harry Bridges Plaza (Ferry Building)</td>\n",
       "      <td>5165</td>\n",
       "    </tr>\n",
       "    <tr>\n",
       "      <th>1</th>\n",
       "      <td>50</td>\n",
       "      <td>61</td>\n",
       "      <td>Harry Bridges Plaza (Ferry Building)</td>\n",
       "      <td>2nd at Townsend</td>\n",
       "      <td>5127</td>\n",
       "    </tr>\n",
       "    <tr>\n",
       "      <th>2</th>\n",
       "      <td>69</td>\n",
       "      <td>65</td>\n",
       "      <td>San Francisco Caltrain 2 (330 Townsend)</td>\n",
       "      <td>Townsend at 7th</td>\n",
       "      <td>5040</td>\n",
       "    </tr>\n",
       "    <tr>\n",
       "      <th>3</th>\n",
       "      <td>60</td>\n",
       "      <td>74</td>\n",
       "      <td>Embarcadero at Sansome</td>\n",
       "      <td>Steuart at Market</td>\n",
       "      <td>4904</td>\n",
       "    </tr>\n",
       "    <tr>\n",
       "      <th>4</th>\n",
       "      <td>51</td>\n",
       "      <td>70</td>\n",
       "      <td>Embarcadero at Folsom</td>\n",
       "      <td>San Francisco Caltrain (Townsend at 4th)</td>\n",
       "      <td>4756</td>\n",
       "    </tr>\n",
       "    <tr>\n",
       "      <th>5</th>\n",
       "      <td>70</td>\n",
       "      <td>50</td>\n",
       "      <td>San Francisco Caltrain (Townsend at 4th)</td>\n",
       "      <td>Harry Bridges Plaza (Ferry Building)</td>\n",
       "      <td>4689</td>\n",
       "    </tr>\n",
       "    <tr>\n",
       "      <th>6</th>\n",
       "      <td>74</td>\n",
       "      <td>61</td>\n",
       "      <td>Steuart at Market</td>\n",
       "      <td>2nd at Townsend</td>\n",
       "      <td>4632</td>\n",
       "    </tr>\n",
       "    <tr>\n",
       "      <th>7</th>\n",
       "      <td>55</td>\n",
       "      <td>70</td>\n",
       "      <td>Temporary Transbay Terminal (Howard at Beale)</td>\n",
       "      <td>San Francisco Caltrain (Townsend at 4th)</td>\n",
       "      <td>4584</td>\n",
       "    </tr>\n",
       "    <tr>\n",
       "      <th>8</th>\n",
       "      <td>74</td>\n",
       "      <td>70</td>\n",
       "      <td>Steuart at Market</td>\n",
       "      <td>San Francisco Caltrain (Townsend at 4th)</td>\n",
       "      <td>4509</td>\n",
       "    </tr>\n",
       "    <tr>\n",
       "      <th>9</th>\n",
       "      <td>65</td>\n",
       "      <td>69</td>\n",
       "      <td>Townsend at 7th</td>\n",
       "      <td>San Francisco Caltrain 2 (330 Townsend)</td>\n",
       "      <td>4258</td>\n",
       "    </tr>\n",
       "    <tr>\n",
       "      <th>10</th>\n",
       "      <td>50</td>\n",
       "      <td>60</td>\n",
       "      <td>Harry Bridges Plaza (Ferry Building)</td>\n",
       "      <td>Embarcadero at Sansome</td>\n",
       "      <td>4225</td>\n",
       "    </tr>\n",
       "    <tr>\n",
       "      <th>11</th>\n",
       "      <td>67</td>\n",
       "      <td>69</td>\n",
       "      <td>Market at 10th</td>\n",
       "      <td>San Francisco Caltrain 2 (330 Townsend)</td>\n",
       "      <td>4095</td>\n",
       "    </tr>\n",
       "    <tr>\n",
       "      <th>12</th>\n",
       "      <td>70</td>\n",
       "      <td>51</td>\n",
       "      <td>San Francisco Caltrain (Townsend at 4th)</td>\n",
       "      <td>Embarcadero at Folsom</td>\n",
       "      <td>3783</td>\n",
       "    </tr>\n",
       "    <tr>\n",
       "      <th>13</th>\n",
       "      <td>64</td>\n",
       "      <td>77</td>\n",
       "      <td>2nd at South Park</td>\n",
       "      <td>Market at Sansome</td>\n",
       "      <td>3751</td>\n",
       "    </tr>\n",
       "    <tr>\n",
       "      <th>14</th>\n",
       "      <td>50</td>\n",
       "      <td>70</td>\n",
       "      <td>Harry Bridges Plaza (Ferry Building)</td>\n",
       "      <td>San Francisco Caltrain (Townsend at 4th)</td>\n",
       "      <td>3727</td>\n",
       "    </tr>\n",
       "    <tr>\n",
       "      <th>15</th>\n",
       "      <td>70</td>\n",
       "      <td>55</td>\n",
       "      <td>San Francisco Caltrain (Townsend at 4th)</td>\n",
       "      <td>Temporary Transbay Terminal (Howard at Beale)</td>\n",
       "      <td>3635</td>\n",
       "    </tr>\n",
       "    <tr>\n",
       "      <th>16</th>\n",
       "      <td>70</td>\n",
       "      <td>74</td>\n",
       "      <td>San Francisco Caltrain (Townsend at 4th)</td>\n",
       "      <td>Steuart at Market</td>\n",
       "      <td>3564</td>\n",
       "    </tr>\n",
       "    <tr>\n",
       "      <th>17</th>\n",
       "      <td>77</td>\n",
       "      <td>64</td>\n",
       "      <td>Market at Sansome</td>\n",
       "      <td>2nd at South Park</td>\n",
       "      <td>3429</td>\n",
       "    </tr>\n",
       "    <tr>\n",
       "      <th>18</th>\n",
       "      <td>74</td>\n",
       "      <td>60</td>\n",
       "      <td>Steuart at Market</td>\n",
       "      <td>Embarcadero at Sansome</td>\n",
       "      <td>3420</td>\n",
       "    </tr>\n",
       "    <tr>\n",
       "      <th>19</th>\n",
       "      <td>63</td>\n",
       "      <td>70</td>\n",
       "      <td>Howard at 2nd</td>\n",
       "      <td>San Francisco Caltrain (Townsend at 4th)</td>\n",
       "      <td>3410</td>\n",
       "    </tr>\n",
       "    <tr>\n",
       "      <th>20</th>\n",
       "      <td>61</td>\n",
       "      <td>74</td>\n",
       "      <td>2nd at Townsend</td>\n",
       "      <td>Steuart at Market</td>\n",
       "      <td>3341</td>\n",
       "    </tr>\n",
       "    <tr>\n",
       "      <th>21</th>\n",
       "      <td>65</td>\n",
       "      <td>70</td>\n",
       "      <td>Townsend at 7th</td>\n",
       "      <td>San Francisco Caltrain (Townsend at 4th)</td>\n",
       "      <td>3265</td>\n",
       "    </tr>\n",
       "    <tr>\n",
       "      <th>22</th>\n",
       "      <td>70</td>\n",
       "      <td>77</td>\n",
       "      <td>San Francisco Caltrain (Townsend at 4th)</td>\n",
       "      <td>Market at Sansome</td>\n",
       "      <td>3102</td>\n",
       "    </tr>\n",
       "    <tr>\n",
       "      <th>23</th>\n",
       "      <td>28</td>\n",
       "      <td>27</td>\n",
       "      <td>Mountain View Caltrain Station</td>\n",
       "      <td>Mountain View City Hall</td>\n",
       "      <td>3082</td>\n",
       "    </tr>\n",
       "    <tr>\n",
       "      <th>24</th>\n",
       "      <td>69</td>\n",
       "      <td>39</td>\n",
       "      <td>San Francisco Caltrain 2 (330 Townsend)</td>\n",
       "      <td>Powell Street BART</td>\n",
       "      <td>2993</td>\n",
       "    </tr>\n",
       "    <tr>\n",
       "      <th>25</th>\n",
       "      <td>69</td>\n",
       "      <td>67</td>\n",
       "      <td>San Francisco Caltrain 2 (330 Townsend)</td>\n",
       "      <td>Market at 10th</td>\n",
       "      <td>2898</td>\n",
       "    </tr>\n",
       "    <tr>\n",
       "      <th>26</th>\n",
       "      <td>72</td>\n",
       "      <td>65</td>\n",
       "      <td>Civic Center BART (7th at Market)</td>\n",
       "      <td>Townsend at 7th</td>\n",
       "      <td>2841</td>\n",
       "    </tr>\n",
       "    <tr>\n",
       "      <th>27</th>\n",
       "      <td>27</td>\n",
       "      <td>28</td>\n",
       "      <td>Mountain View City Hall</td>\n",
       "      <td>Mountain View Caltrain Station</td>\n",
       "      <td>2836</td>\n",
       "    </tr>\n",
       "    <tr>\n",
       "      <th>28</th>\n",
       "      <td>39</td>\n",
       "      <td>69</td>\n",
       "      <td>Powell Street BART</td>\n",
       "      <td>San Francisco Caltrain 2 (330 Townsend)</td>\n",
       "      <td>2806</td>\n",
       "    </tr>\n",
       "    <tr>\n",
       "      <th>29</th>\n",
       "      <td>70</td>\n",
       "      <td>63</td>\n",
       "      <td>San Francisco Caltrain (Townsend at 4th)</td>\n",
       "      <td>Howard at 2nd</td>\n",
       "      <td>2795</td>\n",
       "    </tr>\n",
       "  </tbody>\n",
       "</table>\n",
       "</div>"
      ],
      "text/plain": [
       "    start_station_id  end_station_id  \\\n",
       "0                 61              50   \n",
       "1                 50              61   \n",
       "2                 69              65   \n",
       "3                 60              74   \n",
       "4                 51              70   \n",
       "5                 70              50   \n",
       "6                 74              61   \n",
       "7                 55              70   \n",
       "8                 74              70   \n",
       "9                 65              69   \n",
       "10                50              60   \n",
       "11                67              69   \n",
       "12                70              51   \n",
       "13                64              77   \n",
       "14                50              70   \n",
       "15                70              55   \n",
       "16                70              74   \n",
       "17                77              64   \n",
       "18                74              60   \n",
       "19                63              70   \n",
       "20                61              74   \n",
       "21                65              70   \n",
       "22                70              77   \n",
       "23                28              27   \n",
       "24                69              39   \n",
       "25                69              67   \n",
       "26                72              65   \n",
       "27                27              28   \n",
       "28                39              69   \n",
       "29                70              63   \n",
       "\n",
       "                               start_station_name  \\\n",
       "0                                 2nd at Townsend   \n",
       "1            Harry Bridges Plaza (Ferry Building)   \n",
       "2         San Francisco Caltrain 2 (330 Townsend)   \n",
       "3                          Embarcadero at Sansome   \n",
       "4                           Embarcadero at Folsom   \n",
       "5        San Francisco Caltrain (Townsend at 4th)   \n",
       "6                               Steuart at Market   \n",
       "7   Temporary Transbay Terminal (Howard at Beale)   \n",
       "8                               Steuart at Market   \n",
       "9                                 Townsend at 7th   \n",
       "10           Harry Bridges Plaza (Ferry Building)   \n",
       "11                                 Market at 10th   \n",
       "12       San Francisco Caltrain (Townsend at 4th)   \n",
       "13                              2nd at South Park   \n",
       "14           Harry Bridges Plaza (Ferry Building)   \n",
       "15       San Francisco Caltrain (Townsend at 4th)   \n",
       "16       San Francisco Caltrain (Townsend at 4th)   \n",
       "17                              Market at Sansome   \n",
       "18                              Steuart at Market   \n",
       "19                                  Howard at 2nd   \n",
       "20                                2nd at Townsend   \n",
       "21                                Townsend at 7th   \n",
       "22       San Francisco Caltrain (Townsend at 4th)   \n",
       "23                 Mountain View Caltrain Station   \n",
       "24        San Francisco Caltrain 2 (330 Townsend)   \n",
       "25        San Francisco Caltrain 2 (330 Townsend)   \n",
       "26              Civic Center BART (7th at Market)   \n",
       "27                        Mountain View City Hall   \n",
       "28                             Powell Street BART   \n",
       "29       San Francisco Caltrain (Townsend at 4th)   \n",
       "\n",
       "                                 end_station_name  num_trips  \n",
       "0            Harry Bridges Plaza (Ferry Building)       5165  \n",
       "1                                 2nd at Townsend       5127  \n",
       "2                                 Townsend at 7th       5040  \n",
       "3                               Steuart at Market       4904  \n",
       "4        San Francisco Caltrain (Townsend at 4th)       4756  \n",
       "5            Harry Bridges Plaza (Ferry Building)       4689  \n",
       "6                                 2nd at Townsend       4632  \n",
       "7        San Francisco Caltrain (Townsend at 4th)       4584  \n",
       "8        San Francisco Caltrain (Townsend at 4th)       4509  \n",
       "9         San Francisco Caltrain 2 (330 Townsend)       4258  \n",
       "10                         Embarcadero at Sansome       4225  \n",
       "11        San Francisco Caltrain 2 (330 Townsend)       4095  \n",
       "12                          Embarcadero at Folsom       3783  \n",
       "13                              Market at Sansome       3751  \n",
       "14       San Francisco Caltrain (Townsend at 4th)       3727  \n",
       "15  Temporary Transbay Terminal (Howard at Beale)       3635  \n",
       "16                              Steuart at Market       3564  \n",
       "17                              2nd at South Park       3429  \n",
       "18                         Embarcadero at Sansome       3420  \n",
       "19       San Francisco Caltrain (Townsend at 4th)       3410  \n",
       "20                              Steuart at Market       3341  \n",
       "21       San Francisco Caltrain (Townsend at 4th)       3265  \n",
       "22                              Market at Sansome       3102  \n",
       "23                        Mountain View City Hall       3082  \n",
       "24                             Powell Street BART       2993  \n",
       "25                                 Market at 10th       2898  \n",
       "26                                Townsend at 7th       2841  \n",
       "27                 Mountain View Caltrain Station       2836  \n",
       "28        San Francisco Caltrain 2 (330 Townsend)       2806  \n",
       "29                                  Howard at 2nd       2795  "
      ]
     },
     "execution_count": 81,
     "metadata": {},
     "output_type": "execute_result"
    }
   ],
   "source": [
    "# check the results\n",
    "pop_trips=pd.read_csv('popular_commuter_trips.csv')\n",
    "pop_trips.head(30)"
   ]
  },
  {
   "cell_type": "markdown",
   "metadata": {},
   "source": [
    "Example popular trips:\n",
    "<img src=\"poptrip1.png\">\n",
    "<img src=\"poptrip2.png\">\n",
    "\n",
    "It appears many of the commuter trips are short rides between other means of transportation. A number of the stations involved in the most popular trips are CalTrain, Ferry, or BART stations. This seems to indicate that the most common commuter trips are supplemental commuter bike rides after/before taking another means of transportation. This makes sense to me because these CalTrain, Ferry, or BART stops may not be close enough to the workplace for someone to walk."
   ]
  },
  {
   "cell_type": "markdown",
   "metadata": {},
   "source": [
    "### What kinds of passes to commuters have\n",
    "Before we decide what kind of passes we want to offer to commuters, we should see what passes they most commonly use."
   ]
  },
  {
   "cell_type": "code",
   "execution_count": 82,
   "metadata": {},
   "outputs": [
    {
     "name": "stdout",
     "output_type": "stream",
     "text": [
      "Waiting on bqjob_rbcd6e2728540359_000001619c5bd43a_1 ... (0s) Current status: DONE   \n",
      "+-----------------+-----------+\n",
      "| subscriber_type | num_trips |\n",
      "+-----------------+-----------+\n",
      "| Customer        |     30812 |\n",
      "| Subscriber      |    529871 |\n",
      "+-----------------+-----------+\n"
     ]
    }
   ],
   "source": [
    "! bq query --use_legacy_sql=FALSE 'SELECT subscriber_type, count(*) num_trips FROM `bigquery-public-data.san_francisco.bikeshare_trips` WHERE EXTRACT(HOUR FROM start_date) IN(7,8,9,16,17,18) AND EXTRACT(DAYOFWEEK FROM start_date) BETWEEN 2 and 6 GROUP BY subscriber_type'"
   ]
  },
  {
   "cell_type": "markdown",
   "metadata": {},
   "source": [
    "As expected, most commuters are subscribers and would likely be more interested in day passes or annual memberships."
   ]
  },
  {
   "cell_type": "markdown",
   "metadata": {},
   "source": [
    "### How long are the trips that commuters usually take?\n",
    "It is important to know how long the bike rides are that comutters take because the maximum length of rides for day passes is 30 minutes. We don't expect rides to be longer than that (given that a lot of rides come from / go to another, faster form of public transportation, which should not be more than 30 minutes away), but it is important to check."
   ]
  },
  {
   "cell_type": "code",
   "execution_count": 83,
   "metadata": {},
   "outputs": [
    {
     "name": "stdout",
     "output_type": "stream",
     "text": [
      "\r",
      "Waiting on bqjob_r44f0e2f48bcaea40_000001619c5bdf4c_1 ... (0s) Current status: DONE   "
     ]
    }
   ],
   "source": [
    "# Extract histogram of length of trips\n",
    "! bq query --use_legacy_sql=FALSE --format=csv --max_rows=1000 'SELECT TIMESTAMP_DIFF(end_date, start_date, MINUTE) Minutes, COUNT(*) num_trips FROM  `bigquery-public-data.san_francisco.bikeshare_trips` WHERE EXTRACT(DAYOFWEEK FROM start_date) BETWEEN 2 AND 6 AND EXTRACT(HOUR FROM start_date) IN(7,8,9,16,17,18) GROUP BY Minutes ORDER BY Minutes' > trip_lengths.csv\n"
   ]
  },
  {
   "cell_type": "code",
   "execution_count": 84,
   "metadata": {},
   "outputs": [
    {
     "data": {
      "text/plain": [
       "Text(0.5,1,'Histogram of Length of Trip\\nNote Higher values of minutes are cut off')"
      ]
     },
     "execution_count": 84,
     "metadata": {},
     "output_type": "execute_result"
    },
    {
     "data": {
      "image/png": "[encoded data removed]",
      "text/plain": [
       "<matplotlib.figure.Figure at 0x7fb951774e80>"
      ]
     },
     "metadata": {},
     "output_type": "display_data"
    }
   ],
   "source": [
    "# check the results\n",
    "trip_lengths=pd.read_csv('trip_lengths.csv')\n",
    "ax=sns.barplot(x=\"Minutes\", y=\"num_trips\", data=trip_lengths)\n",
    "ax.set_xlim(0,60)\n",
    "ax.xaxis.set_major_locator(ticker.MultipleLocator(5))\n",
    "ax.set(xticklabels=[2]+[2 + 5 * x for x in range(12)])\n",
    "ax.set_title(\"Histogram of Length of Trip\\nNote Higher values of minutes are cut off\")\n"
   ]
  },
  {
   "cell_type": "markdown",
   "metadata": {},
   "source": [
    "It appears that shorter rides are much more common. The distribution shows a long positive tail, but nearly all the rides are less than 30 minutes and a majority are even less than 15 minutes. "
   ]
  },
  {
   "cell_type": "markdown",
   "metadata": {},
   "source": [
    "## Recommendations\n",
    "The most common commuter trips originate or end at a public transit station. Additionally, nearly all commuters are subscribers. Thus, a good promotion might aim to reduce the cost of subscriptions for those who are already commuting via public transit. For example, maybe you could offer a discount on annual subscriptions to people that already have a Clipper Card (which commuters can use for the ferry, CalTrain, and BART already). \n",
    "\n",
    "San Francisco is [ranked second worst by commute time](http://kron4.com/2017/10/30/study-san-francisco-ranks-among-top-5-us-cities-for-worst-commute-time-stress/) among cities in the US so marketing promotion could be targeted as a way to make a long commute easier. Discount codes for the mobile app could also be advertised on the ferry, CalTrain, and BART. "
   ]
  }
 ],
 "metadata": {
  "kernelspec": {
   "display_name": "Python 2",
   "language": "python",
   "name": "python2"
  },
  "language_info": {
   "codemirror_mode": {
    "name": "ipython",
    "version": 2
   },
   "file_extension": ".py",
   "mimetype": "text/x-python",
   "name": "python",
   "nbconvert_exporter": "python",
   "pygments_lexer": "ipython2",
   "version": "2.7.14"
  }
 },
 "nbformat": 4,
 "nbformat_minor": 2
}
